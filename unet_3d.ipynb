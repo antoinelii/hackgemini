{
 "cells": [
  {
   "cell_type": "code",
   "execution_count": 3,
   "metadata": {},
   "outputs": [],
   "source": [
    "from pathlib import Path\n",
    "import numpy as np\n",
    "import torch\n",
    "\n",
    "TRAIN_FILEPATH = \"/Users/33783/Desktop/capgemini/hackathon-mines-invent-2024/DATA/TRAIN\"\n",
    "TEST_FILEPATH = \"/Users/33783/Desktop/capgemini/hackathon-mines-invent-2024/DATA/TEST\"\n",
    "\n",
    "TRAIN_BATCH_SIZE = 8\n",
    "VAL_BATCH_SIZE = 8\n",
    "TEST_BATCH_SIZE = 8\n",
    "TRAIN_RATIO = 0.1"
   ]
  },
  {
   "cell_type": "code",
   "execution_count": 4,
   "metadata": {},
   "outputs": [
    {
     "name": "stdout",
     "output_type": "stream",
     "text": [
      "Reading patch metadata ...\n",
      "Done.\n",
      "Dataset ready.\n",
      "Reading patch metadata ...\n",
      "Done.\n",
      "Dataset ready.\n",
      "S2 torch.Size([8, 61, 10, 128, 128])\n",
      "date torch.Size([8, 61, 5])\n",
      "TILE torch.Size([8, 1])\n",
      "N_Parcel torch.Size([8, 1])\n",
      "Parcel_Cover torch.Size([8, 1])\n",
      "y torch.Size([8, 128, 128])\n",
      "S2 torch.Size([8, 43, 10, 128, 128])\n",
      "date torch.Size([8, 43, 5])\n",
      "TILE torch.Size([8, 1])\n",
      "N_Parcel torch.Size([8, 1])\n",
      "Parcel_Cover torch.Size([8, 1])\n"
     ]
    }
   ],
   "source": [
    "from baseline.dataset import (BaselineDataset, \n",
    "                              BaselineDatatest,\n",
    "                              get_train_val_Dataloaders,\n",
    "                              get_test_Dataloader,\n",
    "                              )\n",
    "\n",
    "data_train_folder = Path(TRAIN_FILEPATH)\n",
    "data_test_folder = Path(TEST_FILEPATH)\n",
    "\n",
    "dt_train = BaselineDataset(Path(data_train_folder))\n",
    "dt_test = BaselineDatatest(Path(data_test_folder))\n",
    "\n",
    "train_loader, val_loader = get_train_val_Dataloaders(\n",
    "    dt_train,\n",
    "    train_ratio=TRAIN_RATIO,\n",
    "    train_batch_size=TRAIN_BATCH_SIZE,\n",
    "    val_batch_size=VAL_BATCH_SIZE,\n",
    ")\n",
    "\n",
    "x_train, y_train = train_loader.__iter__().__next__()\n",
    "x_val, y_val = val_loader.__iter__().__next__()\n",
    "\n",
    "for k, v in x_train.items():\n",
    "    print(k,v.shape)\n",
    "print(\"y\", y_train.shape)\n",
    "\n",
    "test_loader = get_test_Dataloader(\n",
    "    dt_test, test_batch_size=TEST_BATCH_SIZE)\n",
    "x_test = test_loader.__iter__().__next__()\n",
    "\n",
    "for k, v in x_test.items():\n",
    "    print(k,v.shape)"
   ]
  },
  {
   "cell_type": "code",
   "execution_count": 3,
   "metadata": {},
   "outputs": [],
   "source": [
    "def preprocess_month_median(input_batch):\n",
    "    \"\"\"\n",
    "    Here we want to use the collapse the temporal dimension of the input\n",
    "    batch by keeping the median value for each pixel for each month\n",
    "    going from [batch_size, T, 10, 128, 128]\n",
    "    to [batch_size, 11, 8, 128, 128]\n",
    "    (we select only 8 channels to match model architecture (needs power of 2))\n",
    "    (We don't do december since not all samples have an image for this month)\n",
    "\n",
    "    We also return a batch of vectors of size 3 \n",
    "    that contains TILE, N_Parcel and Parcel_Cover info\n",
    "\n",
    "    input_batch: dataloader X dict batch\n",
    "    \"\"\"\n",
    "    batch_len = input_batch[\"date\"].shape[0]\n",
    "\n",
    "    batch_embeds = []\n",
    "    batch_vectors = []\n",
    "    for i in range(batch_len):\n",
    "        median_imgs = []\n",
    "        for month in range(1, 12):\n",
    "            month_locs = []\n",
    "            month_locs = torch.where(input_batch[\"date\"][i,:,1] == month)[0]\n",
    "            \n",
    "            median = torch.median(input_batch[\"S2\"][i,month_locs,:8], dim=0, keepdim=False)\n",
    "            median_imgs.append(median[0])\n",
    "            sample_embed = torch.stack(median_imgs, dim=0)\n",
    "        batch_embeds.append(sample_embed)\n",
    "\n",
    "    batch_vectors =torch.cat([input_batch[\"TILE\"],\n",
    "                              input_batch[\"N_Parcel\"],\n",
    "                              input_batch[\"Parcel_Cover\"]], dim=1).to(torch.float32)\n",
    "    \n",
    "    return torch.stack(batch_embeds, dim=0), batch_vectors"
   ]
  },
  {
   "cell_type": "code",
   "execution_count": 4,
   "metadata": {},
   "outputs": [],
   "source": [
    "from sklearn.metrics import jaccard_score\n",
    "import torch\n",
    "import torch.nn as nn\n",
    "import torch.optim as optim\n",
    "from tqdm import tqdm\n",
    "\n",
    "import torch.nn.functional as F\n",
    "from torch.nn import CrossEntropyLoss\n",
    "\n",
    "from unet_3d.model import UNet3D\n",
    "from torch.optim import Adam\n",
    "import math\n",
    "\n",
    "MODEL_PATH = Path(\"models\") / 'unet3d.pth'\n",
    "LOAD_MODEL = True\n",
    "IMG_HEIGHT = 128  \n",
    "IMG_WIDTH = 128  \n",
    "LEARNING_RATE = 0.0005\n",
    "EPOCHS = 1\n",
    "\n",
    "device = torch.device(\"cuda\" if torch.cuda.is_available() else \"cpu\")"
   ]
  },
  {
   "cell_type": "code",
   "execution_count": 5,
   "metadata": {},
   "outputs": [
    {
     "name": "stderr",
     "output_type": "stream",
     "text": [
      "  0%|          | 0/25 [00:00<?, ?it/s]c:\\Users\\33783\\miniconda3\\envs\\env_challenge\\Lib\\site-packages\\torch\\autograd\\graph.py:744: UserWarning: Plan failed with a cudnnException: CUDNN_BACKEND_EXECUTION_PLAN_DESCRIPTOR: cudnnFinalize Descriptor Failed cudnn_status: CUDNN_STATUS_NOT_SUPPORTED (Triggered internally at ..\\aten\\src\\ATen\\native\\cudnn\\Conv_v8.cpp:919.)\n",
      "  return Variable._execution_engine.run_backward(  # Calls into the C++ engine to run the backward pass\n",
      "  8%|▊         | 2/25 [05:05<58:28, 152.54s/it]\n"
     ]
    },
    {
     "ename": "KeyboardInterrupt",
     "evalue": "",
     "output_type": "error",
     "traceback": [
      "\u001b[1;31m---------------------------------------------------------------------------\u001b[0m",
      "\u001b[1;31mKeyboardInterrupt\u001b[0m                         Traceback (most recent call last)",
      "Cell \u001b[1;32mIn[5], line 25\u001b[0m\n\u001b[0;32m     23\u001b[0m     loss\u001b[38;5;241m.\u001b[39mbackward()\n\u001b[0;32m     24\u001b[0m     optimizer\u001b[38;5;241m.\u001b[39mstep()\n\u001b[1;32m---> 25\u001b[0m     train_loss \u001b[38;5;241m+\u001b[39m\u001b[38;5;241m=\u001b[39m \u001b[43mloss\u001b[49m\u001b[38;5;241;43m.\u001b[39;49m\u001b[43mitem\u001b[49m\u001b[43m(\u001b[49m\u001b[43m)\u001b[49m\n\u001b[0;32m     27\u001b[0m valid_loss \u001b[38;5;241m=\u001b[39m \u001b[38;5;241m0.0\u001b[39m\n\u001b[0;32m     28\u001b[0m model\u001b[38;5;241m.\u001b[39meval()\n",
      "\u001b[1;31mKeyboardInterrupt\u001b[0m: "
     ]
    }
   ],
   "source": [
    "CLASS_WEIGHTS = torch.Tensor([0.0090, 0.0135, 0.0218, 0.0195, 0.0399, 0.0427, 0.0701, 0.0569, 0.0335,\n",
    "        0.0618, 0.0688, 0.0551, 0.0585, 0.1052, 0.0449, 0.0566, 0.0582, 0.0791,\n",
    "        0.0867, 0.0183]).to(device)\n",
    "\n",
    "model = UNet3D(in_add_features=3, in_channels=11 , num_classes= 20).to(device).train()\n",
    "criterion = CrossEntropyLoss(weight=CLASS_WEIGHTS)\n",
    "optimizer = Adam(params=model.parameters(), lr=LEARNING_RATE)\n",
    "\n",
    "min_valid_loss = math.inf\n",
    "\n",
    "for epoch in range(EPOCHS):\n",
    "    \n",
    "    train_loss = 0.0\n",
    "    model.train()\n",
    "    for i, (inputs, targets) in tqdm(enumerate(train_loader), total=len(train_loader)):\n",
    "        inputs, inputs_vector = preprocess_month_median(inputs)\n",
    "        targets = targets.unsqueeze(1).expand(-1, 8, -1,-1)\n",
    "        inputs, inputs_vector, targets = inputs.to(device), inputs_vector.to(device), targets.to(device)\n",
    "        \n",
    "        outputs = model(inputs, inputs_vector)\n",
    "        loss = criterion(outputs, targets.long())\n",
    "        optimizer.zero_grad()\n",
    "        loss.backward()\n",
    "        optimizer.step()\n",
    "        train_loss += loss.item()\n",
    "    \n",
    "    valid_loss = 0.0\n",
    "    model.eval()\n",
    "    for i, (inputs, targets) in tqdm(enumerate(val_loader), total=len(val_loader)):\n",
    "        inputs, inputs_vector = preprocess_month_median(inputs)\n",
    "        inputs, inputs_vector, targets = inputs.to(device), inputs_vector.to(device), targets.to(device)\n",
    "        \n",
    "        outputs = model(inputs, inputs_vector)\n",
    "        loss = criterion(outputs,targets.long())\n",
    "        valid_loss = loss.item()\n",
    "    \n",
    "    print(f'Epoch {epoch+1} \\t\\t Training Loss: {train_loss / len(train_loader)} \\t\\t Validation Loss: {valid_loss / len(val_loader)}')\n",
    "    \n",
    "    if min_valid_loss > valid_loss:\n",
    "        print(f'Validation Loss Decreased({min_valid_loss:.6f}--->{valid_loss:.6f}) \\t Saving The Model')\n",
    "        min_valid_loss = valid_loss\n",
    "        # Saving State Dict\n",
    "        torch.save(model.state_dict(), f'models/unet3d_epoch{epoch}_valLoss{min_valid_loss}.pth')\n"
   ]
  },
  {
   "cell_type": "code",
   "execution_count": 1,
   "metadata": {},
   "outputs": [
    {
     "ename": "NameError",
     "evalue": "name 'val_loader' is not defined",
     "output_type": "error",
     "traceback": [
      "\u001b[1;31m---------------------------------------------------------------------------\u001b[0m",
      "\u001b[1;31mNameError\u001b[0m                                 Traceback (most recent call last)",
      "Cell \u001b[1;32mIn[1], line 14\u001b[0m\n\u001b[0;32m      9\u001b[0m cmap \u001b[38;5;241m=\u001b[39m ListedColormap(colors\u001b[38;5;241m=\u001b[39mcus_colors, name\u001b[38;5;241m=\u001b[39m\u001b[38;5;124m\"\u001b[39m\u001b[38;5;124magri\u001b[39m\u001b[38;5;124m\"\u001b[39m, N\u001b[38;5;241m=\u001b[39m\u001b[38;5;241m21\u001b[39m)\n\u001b[0;32m     11\u001b[0m \u001b[38;5;66;03m#x_train, y_train = train_loader.__iter__().__next__()\u001b[39;00m\n\u001b[0;32m     12\u001b[0m \u001b[38;5;66;03m#input_preprocessed = preprocess_batch_august(x_train)\u001b[39;00m\n\u001b[1;32m---> 14\u001b[0m x_val, y_val \u001b[38;5;241m=\u001b[39m \u001b[43mval_loader\u001b[49m\u001b[38;5;241m.\u001b[39m\u001b[38;5;21m__iter__\u001b[39m()\u001b[38;5;241m.\u001b[39m\u001b[38;5;21m__next__\u001b[39m()\n\u001b[0;32m     15\u001b[0m input_preprocessed, input_vectors \u001b[38;5;241m=\u001b[39m preprocess_month_median(x_val)\n\u001b[0;32m     17\u001b[0m \u001b[38;5;28;01mdef\u001b[39;00m \u001b[38;5;21mget_preds_from_raw_out\u001b[39m(raw_out):\n",
      "\u001b[1;31mNameError\u001b[0m: name 'val_loader' is not defined"
     ]
    }
   ],
   "source": [
    "from baseline.viz import plot_s2_and_labels, get_rgb\n",
    "from matplotlib.colors import ListedColormap\n",
    "import matplotlib\n",
    "import matplotlib.pyplot as plt\n",
    "\n",
    "cm = matplotlib.colormaps.get_cmap(\"tab20\")\n",
    "def_colors = cm.colors\n",
    "cus_colors = [\"k\"] + [def_colors[i] for i in range(1, 20)] + [\"w\"]\n",
    "cmap = ListedColormap(colors=cus_colors, name=\"agri\", N=21)\n",
    "\n",
    "#x_train, y_train = train_loader.__iter__().__next__()\n",
    "#input_preprocessed = preprocess_batch_august(x_train)\n",
    "\n",
    "x_val, y_val = val_loader.__iter__().__next__()\n",
    "input_preprocessed, input_vectors = preprocess_month_median(x_val)\n",
    "\n",
    "def get_preds_from_raw_out(raw_out):\n",
    "    return raw_out.max(dim=2).values.argmax(dim=1)\n",
    "\n",
    "preds = model(input_preprocessed.to(device), input_vectors.to(device))\n",
    "preds = get_preds_from_raw_out(preds).cpu().numpy()\n",
    "\n",
    "y_val = y_val\n",
    "# Create subplots\n",
    "fig, axes = plt.subplots(8, 3, figsize=(20, 20))\n",
    "\n",
    "for bid in range(8):\n",
    "    im = input_preprocessed[0][bid, 1, [2, 1, 0]].cpu().numpy()\n",
    "    mx = im.max(axis=(1, 2))\n",
    "    mi = im.min(axis=(1, 2))\n",
    "    im = (im - mi[:, None, None]) / (mx - mi)[:, None, None]\n",
    "    im = im.swapaxes(0, 2).swapaxes(0, 1)\n",
    "    im = np.clip(im, a_max=1, a_min=0)\n",
    "\n",
    "    # Plot the Sentinel-2 RGB image\n",
    "    axes[bid, 0].imshow(im)\n",
    "    axes[bid, 0].set_title(f\"One S2 observation (n°)\")\n",
    " \n",
    "    # Plobid, t the semantic labels\n",
    "    axes[bid, 1].imshow(y_val[bid].squeeze(), cmap=cmap, vmin=0, vmax=20)\n",
    "    axes[bid, 1].set_title(\"Semantic labels.\")\n",
    " \n",
    "    axes[bid, 2].imshow(preds[bid], cmap=cmap, vmin=0, vmax=20)\n",
    "    axes[bid, 2].set_title(\"Semantic labels.\")\n",
    "\n",
    "# Show the plot\n",
    "plt.show()"
   ]
  },
  {
   "cell_type": "code",
   "execution_count": 6,
   "metadata": {},
   "outputs": [],
   "source": [
    "from sklearn.metrics import jaccard_score\n",
    "\n",
    "def print_iou_per_class(\n",
    "    targets: torch.Tensor,\n",
    "    preds: torch.Tensor,\n",
    "    nb_classes: int,\n",
    ") -> None:\n",
    "    \"\"\"\n",
    "    Compute IoU between predictions and targets, for each class.\n",
    "\n",
    "    Args:\n",
    "        targets (torch.Tensor): Ground truth of shape (B, H, W).\n",
    "        preds (torch.Tensor): Model predictions of shape (B, nb_classes, H, W).\n",
    "        nb_classes (int): Number of classes in the segmentation task.\n",
    "    \"\"\"\n",
    "\n",
    "    # Compute IoU for each class\n",
    "    # Note: I use this for loop to iterate also on classes not in the demo batch\n",
    "\n",
    "    iou_per_class = []\n",
    "    for class_id in range(nb_classes):\n",
    "        iou = jaccard_score(\n",
    "            targets == class_id,\n",
    "            preds == class_id,\n",
    "            average=\"binary\",\n",
    "            zero_division=0,\n",
    "        )\n",
    "        iou_per_class.append(iou)\n",
    "\n",
    "    for class_id, iou in enumerate(iou_per_class):\n",
    "        print(\n",
    "            \"class {} - IoU: {:.4f} - targets: {} - preds: {}\".format(\n",
    "                class_id, iou, (targets == class_id).sum(), (preds == class_id).sum()\n",
    "            )\n",
    "        )\n",
    "\n",
    "def print_mean_iou(targets: torch.Tensor, preds: torch.Tensor) -> None:\n",
    "    \"\"\"\n",
    "    Compute mean IoU between predictions and targets.\n",
    "\n",
    "    Args:\n",
    "        targets (torch.Tensor): Ground truth of shape (B, H, W).\n",
    "        preds (torch.Tensor): Model predictions of shape (B, nb_classes, H, W).\n",
    "    \"\"\"\n",
    "\n",
    "    mean_iou = jaccard_score(targets, preds, average=\"macro\")\n",
    "    print(f\"meanIOU (over existing classes in targets): {mean_iou:.4f}\")"
   ]
  },
  {
   "cell_type": "code",
   "execution_count": 18,
   "metadata": {},
   "outputs": [
    {
     "name": "stderr",
     "output_type": "stream",
     "text": [
      "1it [00:05,  5.06s/it]"
     ]
    }
   ],
   "source": [
    "score = 0.\n",
    "for i, (inputs, targets) in tqdm(enumerate(val_loader)):\n",
    "    inputs, inputs_vector = preprocess_month_median(inputs)\n",
    "    inputs, inputs_vector, targets = inputs.to(device), inputs_vector.to(device), targets.to(device)\n",
    "    outputs = model(inputs, inputs_vector)\n",
    "    preds = get_preds_from_raw_out(outputs)\n",
    "    preds = preds.cpu().numpy().flatten()\n",
    "    targets = targets.cpu().numpy().flatten()\n",
    "    score +=jaccard_score(targets, preds, average=\"macro\")\n",
    "\n",
    "print(f\"meanIOU (over existing classes in targets): {score / len(val_loader)}\")"
   ]
  },
  {
   "cell_type": "code",
   "execution_count": null,
   "metadata": {},
   "outputs": [],
   "source": [
    "#frequency calculations to weight loss\n",
    "total_counts = {}\n",
    "\n",
    "# Iterate over DataLoader batches\n",
    "for batch in train_loader:\n",
    "    batch_data = batch[1]  # Extract data from the batch\n",
    "    unique_values, batch_counts = torch.unique(batch_data, return_counts=True)\n",
    "\n",
    "    # Accumulate counts in the dictionary\n",
    "    for value, count in zip(unique_values, batch_counts):\n",
    "        value = value.item()\n",
    "        if value in total_counts:\n",
    "            total_counts[value] += count.item()\n",
    "        else:\n",
    "            total_counts[value] = count.item()\n",
    "            torch.unique(y_train, return_counts=True)\n",
    "\n"
   ]
  },
  {
   "cell_type": "code",
   "execution_count": 20,
   "metadata": {},
   "outputs": [
    {
     "data": {
      "text/plain": [
       "<matplotlib.legend.Legend at 0x21a59f43350>"
      ]
     },
     "execution_count": 20,
     "metadata": {},
     "output_type": "execute_result"
    },
    {
     "data": {
      "image/png": "[encoded data removed]",
      "text/plain": [
       "<Figure size 640x480 with 1 Axes>"
      ]
     },
     "metadata": {},
     "output_type": "display_data"
    }
   ],
   "source": [
    "frequencies_sqrt = torch.zeros(20)\n",
    "frequencies = torch.zeros(20)\n",
    "for k, v in total_counts.items():\n",
    "    frequencies_sqrt[k] = np.sqrt(v)\n",
    "    frequencies[k] = v\n",
    "frequencies_sqrt = frequencies_sqrt/torch.sum(frequencies_sqrt)\n",
    "frequencies = frequencies/torch.sum(frequencies)\n",
    "\n",
    "weights = 1/frequencies\n",
    "weights = weights/torch.sum(weights)\n",
    "weights_sqrt = 1/frequencies_sqrt\n",
    "weights_sqrt = weights_sqrt/torch.sum(weights_sqrt)\n",
    "\n",
    "import matplotlib.pyplot as plt\n",
    "\n",
    "plt.plot(weights, label=\"normal\")\n",
    "plt.plot(weights_sqrt, label=\"sqrt\")\n",
    "plt.legend()"
   ]
  },
  {
   "cell_type": "code",
   "execution_count": 11,
   "metadata": {},
   "outputs": [],
   "source": [
    "from unet_3d.model import UNet3D\n",
    "import torch.optim as optim\n",
    "import torch\n",
    "\n",
    "INPUT_MODEL_PATH = \"models/unet3d_epoch4.pth\"\n",
    "\n",
    "device = 'cuda'\n",
    "model = UNet3D(in_add_features=3, in_channels=11, num_classes=20).to(device).eval()\n",
    "checkpoint = torch.load(INPUT_MODEL_PATH, map_location=torch.device('cuda'))\n",
    "model.load_state_dict(checkpoint['model_state_dict'])\n",
    "epoch = checkpoint['epoch']\n"
   ]
  },
  {
   "cell_type": "code",
   "execution_count": 13,
   "metadata": {},
   "outputs": [
    {
     "name": "stdout",
     "output_type": "stream",
     "text": [
      "Reading patch metadata ...\n",
      "Done.\n",
      "Dataset ready.\n"
     ]
    }
   ],
   "source": [
    "from baseline.dataset import BaselineDatatest\n",
    "from baseline.collate import pad_collate\n",
    "from pathlib import Path\n",
    "from tqdm import tqdm\n",
    "\n",
    "PATH_TO_DATATEST = (\n",
    "    #\"/kaggle/input/data-challenge-invent-mines-2024/DATA-mini/DATA-mini\"\n",
    "    TEST_FILEPATH\n",
    ")\n",
    "\n",
    "data_test_folder = PATH_TO_DATATEST\n",
    "\n",
    "test_dataset = BaselineDatatest(Path(data_test_folder))\n",
    "# Create DataLoaders\n",
    "test_loader = torch.utils.data.DataLoader(\n",
    "    test_dataset, batch_size=1, collate_fn=pad_collate, shuffle=False\n",
    "    )"
   ]
  },
  {
   "cell_type": "code",
   "execution_count": null,
   "metadata": {},
   "outputs": [
    {
     "name": "stderr",
     "output_type": "stream",
     "text": [
      "138it [00:29,  4.69it/s]"
     ]
    }
   ],
   "source": [
    "from unet_3d.train import preprocess_month_median, get_preds_from_raw_out\n",
    "\n",
    "device = \"cuda\" if torch.cuda.is_available() else \"cpu\"\n",
    "all_preds = []\n",
    "for i, inputs in tqdm(enumerate(test_loader)):\n",
    "    inputs, inputs_vector = preprocess_month_median(inputs)\n",
    "    inputs, inputs_vector = inputs.to(device), inputs_vector.to(device)\n",
    "    outputs = model(inputs, inputs_vector)\n",
    "    preds = get_preds_from_raw_out(outputs)\n",
    "    preds = preds.cpu().detach().numpy().flatten()\n",
    "    all_preds.append(preds)\n",
    "\n",
    "import numpy as np\n",
    "all_preds_2d = [e.reshape(1,-1) for e in all_preds]\n",
    "print(all_preds_2d[0].shape, len(all_preds))\n",
    "Y = np.concatenate(all_preds_2d, axis=0)\n",
    "print(Y.shape)"
   ]
  },
  {
   "cell_type": "code",
   "execution_count": null,
   "metadata": {},
   "outputs": [],
   "source": [
    "from baseline.submission_tools import masks_to_str\n",
    "import pandas as pd\n",
    "\n",
    "masks = masks_to_str(Y)\n",
    "print(Y.shape)\n",
    "\n",
    "submission = pd.DataFrame.from_dict({\"ID\": range(len(Y)), \"MASKS\": masks})\n",
    "submission[\"ID\"] = submission[\"ID\"] + 20000\n",
    "\n",
    "submission.to_csv(f\"submission_unet3d_{epoch+1}.csv\", index=False)"
   ]
  },
  {
   "cell_type": "code",
   "execution_count": null,
   "metadata": {},
   "outputs": [],
   "source": []
  }
 ],
 "metadata": {
  "kernelspec": {
   "display_name": "env_challenge",
   "language": "python",
   "name": "python3"
  },
  "language_info": {
   "codemirror_mode": {
    "name": "ipython",
    "version": 3
   },
   "file_extension": ".py",
   "mimetype": "text/x-python",
   "name": "python",
   "nbconvert_exporter": "python",
   "pygments_lexer": "ipython3",
   "version": "3.12.7"
  }
 },
 "nbformat": 4,
 "nbformat_minor": 2
}
